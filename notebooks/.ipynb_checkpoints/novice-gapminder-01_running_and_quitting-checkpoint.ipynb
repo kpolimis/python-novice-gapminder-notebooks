{
 "cells": [
  {
   "cell_type": "code",
   "execution_count": 1,
   "metadata": {
    "collapsed": true
   },
   "outputs": [],
   "source": [
    "import os\n",
    "import time\n",
    "import pandas as pd\n",
    "import matplotlib.pyplot as plt\n",
    "import seaborn as sns\n",
    "sns.set()\n",
    "%matplotlib inline"
   ]
  },
  {
   "cell_type": "code",
   "execution_count": 2,
   "metadata": {
    "collapsed": false
   },
   "outputs": [
    {
     "data": {
      "text/plain": [
       "'/Users/kivan/repos/python-novice-gapminder/dssg-notebooks'"
      ]
     },
     "execution_count": 2,
     "metadata": {},
     "output_type": "execute_result"
    }
   ],
   "source": [
    "os.getcwd()"
   ]
  },
  {
   "cell_type": "code",
   "execution_count": 3,
   "metadata": {
    "collapsed": false
   },
   "outputs": [
    {
     "data": {
      "text/plain": [
       "'last updated: Wed, 13 Jul 2016 16:50'"
      ]
     },
     "execution_count": 3,
     "metadata": {},
     "output_type": "execute_result"
    }
   ],
   "source": [
    "time.strftime(\"last updated: %a, %d %b %Y %H:%M\", time.localtime())"
   ]
  },
  {
   "cell_type": "markdown",
   "metadata": {},
   "source": [
    "# Running and Quitting"
   ]
  },
  {
   "cell_type": "markdown",
   "metadata": {
    "collapsed": true
   },
   "source": [
    "## Python Programs are plain text files"
   ]
  },
  {
   "cell_type": "markdown",
   "metadata": {
    "collapsed": true
   },
   "source": [
    "* They have the “.py” extension to let everyone know (including the operating system) it is a Python program.\n",
    "* It’s common to write them using a text editor but we are going to use the Jupyter notebook.\n",
    "* The bit of extra setup is well worth it because the notebook provides code completion and other helpful features.\n",
    "* The notebooks have the extension “.ipynb” to distinguish them from plain text python programs."
   ]
  },
  {
   "cell_type": "markdown",
   "metadata": {
    "collapsed": true
   },
   "source": [
    "## The Jupyter Notebook"
   ]
  },
  {
   "cell_type": "markdown",
   "metadata": {
    "collapsed": true
   },
   "source": [
    "* The [Anaconda package manager](https://docs.continuum.io/anaconda/install) is an automated way to install the Jupyter notebook.\n",
    "* It also installs all the extra libraries it needs to run.\n",
    "* Once you have installed Python and the Jupyter Notebook requirements, open a bash shell and type:"
   ]
  },
  {
   "cell_type": "raw",
   "metadata": {
    "collapsed": true
   },
   "source": [
    "jupyter notebook"
   ]
  },
  {
   "cell_type": "markdown",
   "metadata": {},
   "source": [
    "## Control and Edit modes"
   ]
  },
  {
   "cell_type": "markdown",
   "metadata": {
    "collapsed": true
   },
   "source": [
    "* This will start a Jupyter Notebook server and open your default web browser.\n",
    "* The server sends messages to your browser.\n",
    "* The server does the work and the web browser renders the notebook.\n",
    "* You can type code into the browser and see the result when the web page talks to the server.\n",
    "* FIXME: what advantages are there to this arrangement?\n",
    "* The notebook is stored as JSON.\n",
    "* Just like a webpage, the saved notebook looks different to what you see when it gets rendered by your browser."
   ]
  },
  {
   "cell_type": "markdown",
   "metadata": {
    "collapsed": true
   },
   "source": [
    "* Open a new notebook from the dropdown menu in the top right corner of the file browser page.\n",
    "* If you press “esc” and “return” alternately, you will see the surround of your code cell change from blue to green.\n",
    "* The difference in colour is subtle.\n",
    "* These are the control and edit modes of your notebook.\n",
    "* If you use the “esc” and “return” keys to make the surround blue and then press the “H” key, a list of all the shortcut keys will appear.\n",
    "\n",
    "* When in control mode (esc/Blue),\n",
    "    * The “B” key will make a new cell below the currently selected cell.\n",
    "    * The “A” key will make one above.\n",
    "    * The “X” key will delete the current cell.\n",
    "* There are lots of shortcuts you can try out and most actions can done with the menus at the top of the page if you forget the shortcuts.\n",
    "If you first remember the “esc” and “H” shortcut, you will be able to find out all the rest.\n",
    "\n",
    "* Pressing the “return” key turns the surround green to signify edit mode and you can type code into the cell.\n",
    "* Because we want to be able to write many lines of code in a single cell, the “return” key will do what it normally does.\n",
    "* It moves the cursor to the next line just like in a text editor.\n",
    "* We need some other way to tell the Notebook we want to execute the code in the cell.\n",
    "* Pressing the “return” key and the “shift” key together will execute the code in the cell.\n",
    "* Notice that the “return” and “shift” keys on the right of the keyboard are right next to each other."
   ]
  },
  {
   "cell_type": "markdown",
   "metadata": {
    "collapsed": true
   },
   "source": [
    "## Markdown"
   ]
  },
  {
   "cell_type": "markdown",
   "metadata": {
    "collapsed": true
   },
   "source": [
    "* Notebooks can also render Markdown.\n",
    "* Turn the current cell into a Markdown cell by entering the control mode (esc/blue) and press the “M” key.\n",
    "* The In [ ]: will disappear to show it is no longer a code cell and you will be able to write in Markdown.\n",
    "* FIXME: how do you turn a Markdown cell back into a code cell?"
   ]
  },
  {
   "cell_type": "markdown",
   "metadata": {},
   "source": [
    "## Creating Lists"
   ]
  },
  {
   "cell_type": "raw",
   "metadata": {},
   "source": [
    "Create a numbered list in a Markdown cell in a notebook that looks like this:\n",
    "1. Get funding.\n",
    "2. Design experiment.\n",
    "3. Collect data.\n",
    "4. Analyze.\n",
    "5. Write up.\n",
    "6. Publish."
   ]
  },
  {
   "cell_type": "code",
   "execution_count": null,
   "metadata": {
    "collapsed": true
   },
   "outputs": [],
   "source": []
  },
  {
   "cell_type": "markdown",
   "metadata": {},
   "source": [
    "## More Math"
   ]
  },
  {
   "cell_type": "markdown",
   "metadata": {},
   "source": [
    "What is displayed when a Python cell in a notebook that contains several calculations is executed? For example, what happens when this cell is executed?"
   ]
  },
  {
   "cell_type": "raw",
   "metadata": {},
   "source": [
    "7 * 3\n",
    "2 + 1"
   ]
  },
  {
   "cell_type": "markdown",
   "metadata": {},
   "source": [
    "## Change an Existing Cell from Code to Markdown"
   ]
  },
  {
   "cell_type": "markdown",
   "metadata": {},
   "source": [
    "What if you already wrote some code in into your code cell and then you switch it to a markdown cell? Give it a try; type the following into a cell in Edit Mode:"
   ]
  },
  {
   "cell_type": "raw",
   "metadata": {},
   "source": [
    "x = 6 * 7 + 12\n",
    "print(x)"
   ]
  },
  {
   "cell_type": "markdown",
   "metadata": {},
   "source": [
    "Now run the cell to be sure that it works as a code cell (shift + return).\n",
    "Now go back to the cell, press escape to make sure you’re in Control Mode, and press the “M” key. Now try running the cell (shift + return).\n",
    "What happened and how might this be useful?\n",
    "As an added challenge, try changing back to a code cell by pressing the “Y” key from the Control Mode."
   ]
  },
  {
   "cell_type": "code",
   "execution_count": null,
   "metadata": {
    "collapsed": true
   },
   "outputs": [],
   "source": []
  }
 ],
 "metadata": {
  "kernelspec": {
   "display_name": "Python 2",
   "language": "python",
   "name": "python2"
  },
  "language_info": {
   "codemirror_mode": {
    "name": "ipython",
    "version": 2
   },
   "file_extension": ".py",
   "mimetype": "text/x-python",
   "name": "python",
   "nbconvert_exporter": "python",
   "pygments_lexer": "ipython2",
   "version": "2.7.11"
  }
 },
 "nbformat": 4,
 "nbformat_minor": 0
}
